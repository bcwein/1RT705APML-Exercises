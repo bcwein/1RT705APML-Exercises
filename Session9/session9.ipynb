{
 "cells": [
  {
   "cell_type": "code",
   "execution_count": 8,
   "source": [
    "import numpy as np\r\n",
    "from scipy.stats import truncnorm\r\n",
    "\r\n",
    "def mutiplyGauss(m1, s1, m2, s2):\r\n",
    "    s = (s1*s2)/(s1+s2)\r\n",
    "    m = ((m1*s2)+(m2*s1)) / (s1+s2)\r\n",
    "    return m, s\r\n",
    "\r\n",
    "\r\n",
    "def divideGauss(m1, s1, m2, s2):\r\n",
    "    s = (s1*s2)/(s2-s1)\r\n",
    "    m = ((m1*s2)-(m2*s1)) / (s2-s1)\r\n",
    "    return m, s\r\n",
    "\r\n",
    "\r\n",
    "def truncGaussMM(a, b, m0, s0):\r\n",
    "    a_scaled , b_scaled = (a - m0) / np.sqrt(s0), (b - m0) / np.sqrt(s0)\r\n",
    "    m = truncnorm.mean(a_scaled , b_scaled , loc=m0, scale=np.sqrt(s0))\r\n",
    "    s = truncnorm.var(a_scaled , b_scaled , loc=m0, scale=np.sqrt(s0))\r\n",
    "    return m, s\r\n",
    "\r\n",
    "m0 = 0 # The mean of the prior p(x)\r\n",
    "s0 = 1 # The variance of the prior p(x)\r\n",
    "sv = 1 # The variance of p(t|x)\r\n",
    "y0 = 1 # The measurement\r\n",
    "\r\n",
    "# Message mu3 from prior to node x\r\n",
    "mu3_m = m0 # mean of message\r\n",
    "mu3_s = s0 # variance of message\r\n",
    "\r\n",
    "# Message mu4 from node x to factor f_xt\r\n",
    "mu4_m = mu3_m # mean of message\r\n",
    "mu4_s = mu3_s # variance of message\r\n",
    "\r\n",
    "# Message mu5 from factor f_xt to node t\r\n",
    "mu5_m = mu4_m\r\n",
    "mu5_s = mu4_s + sv\r\n",
    "\r\n",
    "# Do moment matching of the marginal of t\r\n",
    "if y0 == 1:\r\n",
    "    a, b = 0, 1000\r\n",
    "else:\r\n",
    "    a, b = -1000, 0\r\n",
    "\r\n",
    "pt_m , pt_s = truncGaussMM(a, b, mu5_m , mu5_s)\r\n",
    "\r\n",
    "# Compute the message from t to f_xt\r\n",
    "mu6_m , mu6_s = divideGauss(pt_m , pt_s , mu5_m , mu5_s)\r\n",
    "\r\n",
    "# Compute the message from f_xt to x\r\n",
    "mu7_m = mu6_m\r\n",
    "mu7_s = mu6_s + sv\r\n",
    "\r\n",
    "# Compute the marginal of x\r\n",
    "px_m , px_s = mutiplyGauss(mu3_m , mu3_s , mu7_m , mu7_s)\r\n",
    "\r\n",
    "print(px_m) # Output: 0.564189583548\r\n",
    "print(px_s) # Output: 0.681690113816"
   ],
   "outputs": [
    {
     "output_type": "stream",
     "name": "stdout",
     "text": [
      "0.5641895835477565\n",
      "0.6816901138162094\n"
     ]
    }
   ],
   "metadata": {}
  }
 ],
 "metadata": {
  "orig_nbformat": 4,
  "language_info": {
   "name": "python",
   "version": "3.9.7",
   "mimetype": "text/x-python",
   "codemirror_mode": {
    "name": "ipython",
    "version": 3
   },
   "pygments_lexer": "ipython3",
   "nbconvert_exporter": "python",
   "file_extension": ".py"
  },
  "kernelspec": {
   "name": "python3",
   "display_name": "Python 3.9.7 64-bit ('APML': conda)"
  },
  "interpreter": {
   "hash": "594dcc25420435e27a28c7a07c7809458f9c1b33c1ac2fc5f4ef141ae79a8e72"
  }
 },
 "nbformat": 4,
 "nbformat_minor": 2
}