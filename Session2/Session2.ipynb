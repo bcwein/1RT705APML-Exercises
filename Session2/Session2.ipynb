{
 "cells": [
  {
   "cell_type": "code",
   "execution_count": 1,
   "metadata": {},
   "outputs": [],
   "source": [
    "# Imports\n",
    "import numpy as np\n",
    "import scipy.stats\n",
    "import matplotlib.pyplot as plt"
   ]
  },
  {
   "cell_type": "markdown",
   "metadata": {},
   "source": [
    "# Exercise Session 2\n",
    "\n",
    "## Exercise 2.1\n",
    "\n",
    "This exercise wants us to analytically show the linearity of expectation.\n",
    "We can also show this with code numerically:"
   ]
  },
  {
   "cell_type": "code",
   "execution_count": 17,
   "metadata": {},
   "outputs": [
    {
     "data": {
      "image/png": "[encoded data removed]",
      "text/plain": [
       "<Figure size 432x288 with 1 Axes>"
      ]
     },
     "metadata": {
      "needs_background": "light"
     },
     "output_type": "display_data"
    },
    {
     "name": "stdout",
     "output_type": "stream",
     "text": [
      "Monte Carlo Simulated Mean: 5.001181320049771\n"
     ]
    }
   ],
   "source": [
    "mu = 0\n",
    "std = 1\n",
    "\n",
    "a = 1\n",
    "b = 5\n",
    "\n",
    "X = a*scipy.stats.norm.rvs(loc=mu, scale=std, size=100000) + b\n",
    "plt.hist(X, bins=50, density=True)\n",
    "plt.show()\n",
    "\n",
    "print(\"Monte Carlo Simulated Mean: {}\".format(np.mean(X)))"
   ]
  },
  {
   "cell_type": "markdown",
   "metadata": {},
   "source": [
    "## Exercise 2.3 \n",
    "\n",
    "## Exercise 2.4\n",
    "\n",
    "## Exercise 2.7\n",
    "\n",
    "## Exercise 2.8\n",
    "\n",
    "## Exercise 2.9 \n",
    "\n",
    "## Exercise 2.10\n",
    "\n",
    "## Exercise 2.11\n",
    "\n",
    "## Exercise 2.12"
   ]
  }
 ],
 "metadata": {
  "interpreter": {
   "hash": "594dcc25420435e27a28c7a07c7809458f9c1b33c1ac2fc5f4ef141ae79a8e72"
  },
  "kernelspec": {
   "display_name": "Python 3.9.7 64-bit ('APML': conda)",
   "name": "python3"
  },
  "language_info": {
   "codemirror_mode": {
    "name": "ipython",
    "version": 3
   },
   "file_extension": ".py",
   "mimetype": "text/x-python",
   "name": "python",
   "nbconvert_exporter": "python",
   "pygments_lexer": "ipython3",
   "version": "3.9.7"
  },
  "orig_nbformat": 4
 },
 "nbformat": 4,
 "nbformat_minor": 2
}
