{
 "cells": [
  {
   "cell_type": "code",
   "execution_count": null,
   "metadata": {},
   "outputs": [],
   "source": [
    "import functions"
   ]
  },
  {
   "cell_type": "markdown",
   "metadata": {},
   "source": [
    "# Advanced Probabilistic Machine Learning Syllabus.\n",
    "This file contains theory and python code for the APML 5 credit course at the University of Uppsala fall 2021.\n",
    "\n",
    "## Lecture 1 - Introduction to probabilistic modeling\n",
    "Probabilistic Machine Learning (PML) is a extension of statistical machine learning (SML).\n",
    "The viewpoint in PML is probabilistic. Meaning that we treat data and model parameters as **Random Variables**. Previously model parameters has been treated as deterministic and models use the maximum likelhood estimator (MLE) formodel parameters.\n",
    "\n",
    "### Probability Theory\n",
    "General Probability theory understanding is required in this course and this python code will not go into detail into fundemental probability theory.\n",
    "\n",
    "### Probabilistic Modeling\n",
    "In probabilistic modeling, we consider two types of variables:\n",
    "$$\n",
    "D = \\{x_1, x_2, \\dots, x_N\\}: \\text{Observed Variables}\n",
    "$$\n",
    "$$\n",
    "\\theta = \\{z_1, z_2, \\dots, z_N\\}: \\text{Latent Variables}\n",
    "$$\n",
    "We treat $D$ and $\\theta$ as random variables and our model is a the distribution:\n",
    "$$\n",
    "p(D, \\theta) = p(x_1, x_2, \\dots x_M. z_1, \\dots, z_M)\n",
    "$$\n",
    "We are interested in $P(\\theta|D)$ i.e the distribution of model parameters given our observations.\n",
    "Why?:\n",
    "- We can simulate many outcomes by sampling model parameters \n",
    "- A distribution rather than a point estimate gives insight into our certainty/belief\n",
    "\n",
    "### Bayes Theorem\n",
    "To find the distribution of model parameters, we often resort to\n",
    "Bayes Theorem.\n",
    "$$\n",
    "P(\\theta | D) = \\frac{P(D|\\theta)P(\\theta)}{P(D)}\n",
    "$$\n",
    "\n",
    "Below is a example of bayes theorem where we update our belief of someone having\n",
    "a very rare disease given a positive test that correctly tests positive on 90\\%\n",
    "of people having the disease. i.e Sensitity."
   ]
  },
  {
   "cell_type": "code",
   "execution_count": null,
   "metadata": {},
   "outputs": [],
   "source": [
    "# Example of bayes theorem\n",
    "prior = 1/1000         # Prior belief of disease - 5% have disease\n",
    "likelihood = 99/100    # Likelihood given positive test. 90% of positive tests are correct \n",
    "marginal = prior*likelihood + (1-likelihood)*(1-prior) # Law of Total Probability.\n",
    "\n",
    "# Print posterior \n",
    "functions.scalar_bayes(likelihood, prior, marginal)"
   ]
  },
  {
   "cell_type": "markdown",
   "metadata": {},
   "source": [
    "The key takeaway here is that given some evidence, our prior goes from\n",
    "$1/1000$ to almost $1/10$. This updating is not always intuitive and bayes\n",
    "theorem thus becomes a powerful tool.\n",
    "\n",
    "In the code example above, we use scalar values. But bayes extends to probability\n",
    "distributions as well.\n",
    "\n",
    "### Other important proability fundementals\n",
    "- [Probability Axioms](https://www.wikiwand.com/en/Probability_axioms)\n",
    "- [Conditional Probability](https://www.wikiwand.com/en/Conditional_probability)\n",
    "- [Marginalisation](https://www.wikiwand.com/en/Marginal_distribution)\n",
    "- [Conditional Independence](https://www.wikiwand.com/en/Conditional_independence)\n",
    "- [Independence](https://www.wikiwand.com/en/Independence_(probability_theory))"
   ]
  }
 ],
 "metadata": {
  "interpreter": {
   "hash": "594dcc25420435e27a28c7a07c7809458f9c1b33c1ac2fc5f4ef141ae79a8e72"
  },
  "kernelspec": {
   "display_name": "Python 3.9.7 64-bit ('APML': conda)",
   "name": "python3"
  },
  "language_info": {
   "codemirror_mode": {
    "name": "ipython",
    "version": 3
   },
   "file_extension": ".py",
   "mimetype": "text/x-python",
   "name": "python",
   "nbconvert_exporter": "python",
   "pygments_lexer": "ipython3",
   "version": "3.9.7"
  },
  "orig_nbformat": 4
 },
 "nbformat": 4,
 "nbformat_minor": 2
}
