{
 "cells": [
  {
   "cell_type": "code",
   "execution_count": 91,
   "metadata": {},
   "outputs": [],
   "source": [
    "# Imports\n",
    "import numpy as np\n",
    "import scipy.stats\n",
    "import matplotlib.pyplot as plt"
   ]
  },
  {
   "cell_type": "markdown",
   "metadata": {},
   "source": [
    "# Session 1\n",
    "\n",
    "## Exercise 1.1\n",
    "\n",
    "Consider two boxes with white and black balls. Box 1 contains three black and five white balls and box 2 contains two black\n",
    "and five white balls. First a box is chosen at random with a prior probability p(box = 1) = p(box = 2) = 0.5, secondly a\n",
    "ball picked at random from that box. This ball turns out to be black. What is the posterior probability that this black ball\n",
    "came from box 1?"
   ]
  },
  {
   "cell_type": "code",
   "execution_count": 29,
   "metadata": {},
   "outputs": [
    {
     "name": "stdout",
     "output_type": "stream",
     "text": [
      "Posterior p(box1 | black) = 0.5675675675675675\n"
     ]
    }
   ],
   "source": [
    "def scalar_bayes(likelihood, prior, marginal):\n",
    "    \"\"\"Scalar verson of bayes theorem.\n",
    "\n",
    "    Args:\n",
    "        likelihood (Float): Likelihood of observation.\n",
    "        prior (Float): Prior belief before observation.\n",
    "        marginal (Float): Evidence (probability of observation).\n",
    "    Return:\n",
    "        posteriorn (Float): Posterior belief of event given observation.\n",
    "    \"\"\"\n",
    "    return((likelihood*prior) / marginal)\n",
    "\n",
    "likelihood_black_box1 = 3/8\n",
    "likelihood_black_box2 = 2/7\n",
    "pbox1 = 0.5\n",
    "pbox2 = 0.5\n",
    "marginal_black = (likelihood_black_box1*pbox1) + (likelihood_black_box2*pbox2)\n",
    "\n",
    "p_box1_given_black = scalar_bayes(likelihood_black_box1, pbox1, marginal_black)\n",
    "\n",
    "print(\"Posterior p(box1 | black) = {}\".format(p_box1_given_black))"
   ]
  },
  {
   "cell_type": "markdown",
   "metadata": {},
   "source": [
    "## Exercise 1.2"
   ]
  },
  {
   "cell_type": "markdown",
   "metadata": {},
   "source": [
    "Two fair coins are tossed. If two head occurs two white balls are placed in a \n",
    "box, if one head and one tail occurs one whiteball and one black ball are placed\n",
    "in a box, and if two tails occurs two black balls are placed in the box. Balls \n",
    "are thendrawn from the box three times in succession, always with replacing the \n",
    "drawn ball back in the box. It is found that on allthree occasions a black ball \n",
    "is drawn. What is the probability that both balls in the box are black?\n",
    "\n",
    "$$\n",
    "X_1 = \\text{Probability that fair coin is heads} = \n",
    "\\begin{cases}\n",
    "0 & \\quad \\text{tails} \\\\\n",
    "1 & \\quad \\text{heads}\n",
    "\\end{cases} \\sim \\text{Ber}(p=0.5) = p^{x_1}(1 - p)^{1-x_1}\n",
    "$$\n",
    "\n",
    "$$\n",
    "X_2 = \\text{Probability that fair coin is heads} = \n",
    "\\begin{cases}\n",
    "0 & \\quad \\text{tails} \\\\\n",
    "1 & \\quad \\text{heads}\n",
    "\\end{cases} \\sim \\text{Ber}(p=0.5) = p^{x_2}(1 - p)^{1-x_2}\n",
    "$$\n",
    "\n",
    "Since these two events are independent, their joint distribution is:\n",
    "\n",
    "$$\n",
    "P(X_1, X_2) = P(X_1)P(X_2) = p^{x_1+x_2}(1-p)^{-x_1-x_2+2}\n",
    "$$\n"
   ]
  },
  {
   "cell_type": "code",
   "execution_count": 30,
   "metadata": {},
   "outputs": [
    {
     "name": "stdout",
     "output_type": "stream",
     "text": [
      "f(0,0) = 0.25\n",
      "f(0,1) = 0.25\n",
      "f(1,0) = 0.25\n",
      "f(1,1) = 0.25\n",
      "Posterior p(2 black | Draw 3 black) = 0.8\n"
     ]
    }
   ],
   "source": [
    "def f(x1, x2, p=0.5):\n",
    "    return (p**(x1+x2) * (1-p)**(-x1-x2+2))\n",
    "\n",
    "print(\"f(0,0) = {}\".format(f(0,0)))\n",
    "print(\"f(0,1) = {}\".format(f(1,0)))\n",
    "print(\"f(1,0) = {}\".format(f(0,1)))\n",
    "print(\"f(1,1) = {}\".format(f(1,1)))\n",
    "\n",
    "prior_2black = f(1, 1)\n",
    "likelihood_draw3_2black = 1\n",
    "marginal = 0*f(0, 0) + (1/2)**3 * (f(1, 0)+f(0, 1)) + 1**3 * f(1, 1)\n",
    "\n",
    "posterior = scalar_bayes(likelihood_draw3_2black, prior_2black, marginal)\n",
    "print(\"Posterior p(2 black | Draw 3 black) = {}\".format(posterior))"
   ]
  },
  {
   "cell_type": "markdown",
   "metadata": {},
   "source": [
    "## Exercise 1.3\n",
    "\n",
    "let $P = 1$ denote percipitation and $P=0$ denotes no percipitation. \n",
    "Subscripts $P_i$ denotes timestep/day $i$. Based on historical weather data in \n",
    "Uppsala we have:\n",
    "\n",
    "$$\n",
    "P(P_{i+1} = 1 | P_i = 1) = 0.6\n",
    "$$ \n",
    "\n",
    "$$\n",
    "\\implies P(P_{i+1} = 0 | P_i = 1) = 0.4\n",
    "$$\n",
    "\n",
    "And\n",
    "\n",
    "$$\n",
    "P(P_{i+1} = 0 | P_i = 0) = 0.8\n",
    "$$\n",
    "\n",
    "$$\n",
    "\\implies P(P_{i+1} = 1 | P_i = 0) = 0.2\n",
    "$$\n",
    "\n",
    "### a) \n",
    "Assuming that the prior probability it rained or snowed yesterday is 50\\%, what is the probability that it was raining orsnowing yesterday given that it does not rain or snow today?"
   ]
  },
  {
   "cell_type": "code",
   "execution_count": 85,
   "metadata": {},
   "outputs": [
    {
     "name": "stdout",
     "output_type": "stream",
     "text": [
      "Posterior p(P_i = 1 | P_i+1 = 0) = 0.3333333333333333\n"
     ]
    }
   ],
   "source": [
    "# Probability matrix.\n",
    "P = np.array(\n",
    "    [\n",
    "        [0.8, 0.2],\n",
    "        [0.4, 0.6]\n",
    "    ]\n",
    ")\n",
    "\n",
    "# Prior probability P(P_i = 1)\n",
    "prior = 0.5\n",
    "# Likelihood P(P_i+1=0 | P_i=1)\n",
    "likelihood = P[1, 0]\n",
    "# Marginal / Evidence P(P_i+1 = 0)\n",
    "marginal = P[1, 0]*prior + P[0, 0]*(1-prior)\n",
    "# Posterior P(P_i = 1 | P_i+1 = 0)\n",
    "posterior = scalar_bayes(likelihood, prior, marginal)\n",
    "\n",
    "print(\"Posterior p(P_i = 1 | P_i+1 = 0) = {}\".format(posterior))"
   ]
  },
  {
   "cell_type": "markdown",
   "metadata": {},
   "source": [
    "### b) \n",
    "If the weather follows the same pattern as above, day after day, what is the \n",
    "probability that it will rain or snow on anyday (based on an effectively \n",
    "infinite number of days of observing the weather)?\n",
    "\n",
    "What we will consider is the stationary distribution. The system that is \n",
    "described above is a markov chain and only depends on the previous state.\n",
    "When the stationary distribution is achieved we expect:\n",
    "\n",
    "$$\n",
    "P(P_{i+1}=1) = P(P_{i}=1)\n",
    "$$\n",
    "\n",
    "The stationary probability of having percipitation can be notated as $r$\n",
    "and the stationary probability of not having percipitation $1-r$\n",
    "\n",
    "Given the condition above we have\n",
    "\n",
    "$$\n",
    "r = P(P_{i+1}=1) = P(P_{i}=1)\n",
    "$$\n",
    "$$\n",
    "1-r = P(P_{i+1}=0) = P(P_{i}=0)\n",
    "$$\n",
    "\n",
    "We can incorporate this stationary probability condition into the marginal \n",
    "probability of percipitation and we get the formula:\n",
    "\n",
    "$$\n",
    "r = P(P_{i+1}=1|P_{i}=1)P(P_{i}=1) + P(P_{i+1}=1|P_{i}=0)P(P_{i}=0)\n",
    "$$\n",
    "$$\n",
    "= P(P_{i+1}=1|P_{i}=1)r + P(P_{i+1}=1|P_{i}=0)(1-r)\n",
    "$$\n",
    "$$\n",
    "= 0.6r + 0.2(1-r) \\implies r - 0.6r -0.2 + 0.2r = 0 \\implies r = \\frac{0.2}{0.6}\n",
    "= \\frac{1}{3}\n",
    "$$\n",
    "\n",
    "### c) "
   ]
  },
  {
   "cell_type": "code",
   "execution_count": 86,
   "metadata": {},
   "outputs": [
    {
     "name": "stdout",
     "output_type": "stream",
     "text": [
      "Posterior p(P_i = 1 | P_i+1 = 0) = 0.19999999999999998\n"
     ]
    }
   ],
   "source": [
    "# Probability matrix.\n",
    "P = np.array(\n",
    "    [\n",
    "        [0.8, 0.2],\n",
    "        [0.4, 0.6]\n",
    "    ]\n",
    ")\n",
    "\n",
    "# Prior probability P(P_i = 1)\n",
    "prior = 1/3\n",
    "# Likelihood P(P_i+1=0 | P_i=1)\n",
    "likelihood = P[1, 0]\n",
    "# Marginal / Evidence P(P_i+1 = 0)\n",
    "marginal = P[1, 0]*prior + P[0, 0]*(1-prior)\n",
    "# Posterior P(P_i = 1 | P_i+1 = 0)\n",
    "posterior = scalar_bayes(likelihood, prior, marginal)\n",
    "\n",
    "print(\"Posterior p(P_i = 1 | P_i+1 = 0) = {}\".format(posterior))"
   ]
  },
  {
   "cell_type": "markdown",
   "metadata": {},
   "source": [
    "## Exercise 1.4\n",
    "\n",
    "### a)\n",
    "\n",
    "Expected value of a random variable is:\n",
    "\n",
    "$$\n",
    "E[X] = 0 \\times P(X=0) + 1 \\times P(X=1) = P(X=1)\n",
    "$$\n",
    "\n",
    "and for the bernoulli distribution, this is\n",
    "\n",
    "$$\n",
    "E[X] = 0 + 1 \\times \\mu^1(1-\\mu)^{1-1} = \\mu\n",
    "$$\n",
    "\n",
    "And for variance\n",
    "\n",
    "$$\n",
    "Var[X] = E[(X-\\mu)^2] = (0-\\mu^2)(1-\\mu) + (1-\\mu)^2\\mu = (1-\\mu)\\mu\n",
    "$$\n",
    "\n",
    "## Exercise 1.9\n",
    "\n",
    "We have a binomial distribution on random variable $X =$ number of heads from\n",
    "$N$ trials.\n",
    "\n",
    "$$\n",
    "X \\sim \\text{Binom}(x; p, N) = \\binom{N}{x}p^x(1-p)^{N-x}\n",
    "$$\n",
    "\n",
    "And we want to estimate the mean $\\mu$ by maximising the likelihood\n",
    "\n",
    "$$\n",
    "\\hat{p} = \\argmax_p \\text{Binom}(x; p, N) \n",
    "$$\n",
    "$$\n",
    "= \\argmax_p p^x(1-p)^{N-x}\n",
    "$$\n",
    "$$\n",
    "= \\argmax_p \\log{p^x(1-p)^{N-x}}\n",
    "$$\n",
    "$$\n",
    "= \\argmax_p x \\log{p} + (N-x)\\log{1-p} = L(p)\n",
    "$$\n",
    "\n",
    "And we set\n",
    "\n",
    "$$\n",
    "\\frac{d}{dp}L(p) = 0\n",
    "$$\n",
    "\n",
    "Which gives \n",
    "$$\n",
    "\\frac{x}{p} - \\frac{N - x}{1 - p} = 0 \\implies p = \\frac{x}{N} = \\frac{1}{N} \\sum_{n=1}^{N} x_n\n",
    "$$\n",
    "\n",
    "### b)\n",
    "\n",
    "We have the prior $p(\\mu) = \\text{Beta}(\\mu; a, b)$ and the likelihood\n",
    "$p(m|\\mu) = \\text{Binom}(m; \\mu, N)$\n",
    "\n",
    "Then we have the posterior from bayes theorem\n",
    "\n",
    "$$\n",
    "p(\\mu|m) \\propto p(m|\\mu)p(\\mu) = \\mu^m(1-\\mu)^{N-m} \\mu^{a-1}(1-\\mu) = \\mu^{m+a-1}(1-\\mu)^{N-m+b-1}\n",
    "$$"
   ]
  },
  {
   "cell_type": "code",
   "execution_count": 112,
   "metadata": {},
   "outputs": [
    {
     "name": "stdout",
     "output_type": "stream",
     "text": [
      "MLE Estimate of probability of heads: 0.5\n"
     ]
    },
    {
     "data": {
      "text/plain": [
       "[<matplotlib.lines.Line2D at 0x29b50668250>]"
      ]
     },
     "execution_count": 112,
     "metadata": {},
     "output_type": "execute_result"
    },
    {
     "data": {
      "image/png": "[encoded data removed]",
      "text/plain": [
       "<Figure size 432x288 with 1 Axes>"
      ]
     },
     "metadata": {
      "needs_background": "light"
     },
     "output_type": "display_data"
    }
   ],
   "source": [
    "# Data\n",
    "flips = np.array([1, 0, 1, 0, 1, 0, 1, 0])\n",
    "m = np.sum(flips)\n",
    "N = len(flips)\n",
    "\n",
    "#MLE Estimate\n",
    "mu_hat = np.mean(flips)\n",
    "print(\"MLE Estimate of probability of heads: {}\".format(mu_hat))\n",
    "\n",
    "# Priors\n",
    "a = 1\n",
    "b = 1\n",
    "\n",
    "# Bayesian Estimate\n",
    "x = np.linspace(0, 1, 100)\n",
    "plt.plot(x, scipy.stats.beta.pdf(x, a=m+a, b=N-m+b))"
   ]
  }
 ],
 "metadata": {
  "interpreter": {
   "hash": "594dcc25420435e27a28c7a07c7809458f9c1b33c1ac2fc5f4ef141ae79a8e72"
  },
  "kernelspec": {
   "display_name": "Python 3.9.7 64-bit ('APML': conda)",
   "name": "python3"
  },
  "language_info": {
   "codemirror_mode": {
    "name": "ipython",
    "version": 3
   },
   "file_extension": ".py",
   "mimetype": "text/x-python",
   "name": "python",
   "nbconvert_exporter": "python",
   "pygments_lexer": "ipython3",
   "version": "3.9.7"
  },
  "orig_nbformat": 4
 },
 "nbformat": 4,
 "nbformat_minor": 2
}
