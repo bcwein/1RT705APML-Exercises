{
 "cells": [
  {
   "cell_type": "code",
   "execution_count": 1,
   "metadata": {},
   "outputs": [],
   "source": [
    "# Imports\n",
    "import numpy as np"
   ]
  },
  {
   "cell_type": "markdown",
   "metadata": {},
   "source": [
    "# Session 1\n",
    "\n",
    "## Exercise 1.1\n",
    "\n",
    "Consider two boxes with white and black balls. Box 1 contains three black and five white balls and box 2 contains two black\n",
    "and five white balls. First a box is chosen at random with a prior probability p(box = 1) = p(box = 2) = 0.5, secondly a\n",
    "ball picked at random from that box. This ball turns out to be black. What is the posterior probability that this black ball\n",
    "came from box 1?"
   ]
  },
  {
   "cell_type": "code",
   "execution_count": 14,
   "metadata": {},
   "outputs": [
    {
     "name": "stdout",
     "output_type": "stream",
     "text": [
      "Posterior p(box1 | black) = 0.5675675675675675\n"
     ]
    }
   ],
   "source": [
    "def scalar_bayes(likelihood, prior, marginal):\n",
    "    \"\"\"Scalar verson of bayes theorem.\n",
    "\n",
    "    Args:\n",
    "        likelihood (Float): Likelihood of observation.\n",
    "        prior (Float): Prior belief before observation.\n",
    "        marginal (Float): Evidence (probability of observation).\n",
    "    Return:\n",
    "        posteriorn (Float): Posterior belief of event given observation.\n",
    "    \"\"\"\n",
    "    return((likelihood*prior) / marginal)\n",
    "\n",
    "likelihood_black_box1 = 3/8\n",
    "likelihood_black_box2 = 2/7\n",
    "pbox1 = 0.5\n",
    "pbox2 = 0.5\n",
    "marginal_black = (likelihood_black_box1*pbox1) + (likelihood_black_box2*pbox2)\n",
    "\n",
    "p_box1_given_black = scalar_bayes(likelihood_black_box1, pbox1, marginal_black)\n",
    "\n",
    "print(\"Posterior p(box1 | black) = {}\".format(p_box1_given_black))"
   ]
  },
  {
   "cell_type": "markdown",
   "metadata": {},
   "source": [
    "## Exercise 1.2"
   ]
  }
 ],
 "metadata": {
  "interpreter": {
   "hash": "594dcc25420435e27a28c7a07c7809458f9c1b33c1ac2fc5f4ef141ae79a8e72"
  },
  "kernelspec": {
   "display_name": "Python 3.9.7 64-bit ('APML': conda)",
   "name": "python3"
  },
  "language_info": {
   "codemirror_mode": {
    "name": "ipython",
    "version": 3
   },
   "file_extension": ".py",
   "mimetype": "text/x-python",
   "name": "python",
   "nbconvert_exporter": "python",
   "pygments_lexer": "ipython3",
   "version": "3.9.7"
  },
  "orig_nbformat": 4
 },
 "nbformat": 4,
 "nbformat_minor": 2
}
